{
 "cells": [
  {
   "cell_type": "code",
   "execution_count": null,
   "metadata": {},
   "outputs": [],
   "source": [
    "# Copyright 2018 United States Government as represented by the Administrator of\n",
    "# the National Aeronautics and Space Administration. No copyright is claimed in\n",
    "# the United States under Title 17, U.S. Code. All Other Rights Reserved.\n",
    "\n",
    "# The Stochastic Reduced Order Models with Python (SROMPy) platform is licensed\n",
    "# under the Apache License, Version 2.0 (the \"License\"); you may not use this\n",
    "# file except in compliance with the License. You may obtain a copy of the\n",
    "# License at http://www.apache.org/licenses/LICENSE-2.0.\n",
    "\n",
    "# Unless required by applicable law or agreed to in writing, software\n",
    "# distributed under the License is distributed on an \"AS IS\" BASIS, WITHOUT\n",
    "# WARRANTIES OR CONDITIONS OF ANY KIND, either express or implied. See the\n",
    "# License for the specific language governing permissions and limitations\n",
    "# under the License."
   ]
  },
  {
   "cell_type": "markdown",
   "metadata": {},
   "source": [
    "# Stochastic Spring-Mass Sytem Example with SROMPy (1D)\n",
    "This example will use SROMPy to simulate a spring-mass system with random spring stiffness. The example covers modeling the random stiffness using a Beta random variable in SROMPy, generating a SROM to represent the stiffness, then propagating uncertainty though the model to obtain the distribution for maximum displacement. The SROM solution will be compared to standard Monte Carlo simulation."
   ]
  },
  {
   "cell_type": "code",
   "execution_count": 4,
   "metadata": {
    "collapsed": false,
    "scrolled": true
   },
   "outputs": [
    {
     "data": {
      "image/png": "[encoded data removed]",
      "text/plain": [
       "<IPython.core.display.Image object>"
      ]
     },
     "execution_count": 4,
     "metadata": {},
     "output_type": "execute_result"
    }
   ],
   "source": [
    "Image(\"spring_mass_diagram.png\")"
   ]
  },
  {
   "cell_type": "markdown",
   "metadata": {},
   "source": [
    "Governing equation:\n",
    "<br>\n",
    "$m\\ddot{x} = -kx + mg $"
   ]
  },
  {
   "cell_type": "code",
   "execution_count": 2,
   "metadata": {
    "collapsed": true
   },
   "outputs": [],
   "source": [
    "import numpy as np\n",
    "\n",
    "#import SROMPy modules\n",
    "from model import SpringMass_1D\n",
    "from postprocess import Postprocessor\n",
    "from srom import SROM\n",
    "from target import SampleRV, BetaRandomVariable "
   ]
  },
  {
   "cell_type": "code",
   "execution_count": 3,
   "metadata": {
    "collapsed": true
   },
   "outputs": [],
   "source": [
    "#Specify spring-mass system:\n",
    "m = 1.5                             #deterministic mass\n",
    "state0 = [0., 0.]                   #initial conditions\n",
    "t_grid = np.arange(0., 10., 0.1)    #time \n",
    "\n",
    "#random variable for spring stiffness\n",
    "stiffness_rv = BetaRandomVariable(alpha=3., beta=2., shift=1., scale=2.5)\n",
    "\n",
    "#Initialize model\n",
    "model = SpringMass_1D(m, state0, t_grid)"
   ]
  },
  {
   "cell_type": "markdown",
   "metadata": {},
   "source": [
    "Step 1) Generate an SROM for the random stiffness"
   ]
  },
  {
   "cell_type": "code",
   "execution_count": 4,
   "metadata": {
    "collapsed": false
   },
   "outputs": [
    {
     "name": "stdout",
     "output_type": "stream",
     "text": [
      "SROM Sequential Optimizer:\n",
      "\tIteration 1 Objective Function: 8.2670454435 Optimal: 8.2670454435\n",
      "\tIteration 2 Objective Function: 18.8850728488 Optimal: 8.2670454435\n",
      "\tIteration 3 Objective Function: 25.7421713546 Optimal: 8.2670454435\n",
      "\tIteration 4 Objective Function: 20.1399596208 Optimal: 8.2670454435\n",
      "\tIteration 5 Objective Function: 12.6210644911 Optimal: 8.2670454435\n",
      "\tIteration 6 Objective Function: 20.0874031733 Optimal: 8.2670454435\n",
      "\tIteration 7 Objective Function: 14.9874932876 Optimal: 8.2670454435\n",
      "\tIteration 8 Objective Function: 12.5399715788 Optimal: 8.2670454435\n",
      "\tIteration 9 Objective Function: 27.6079196985 Optimal: 8.2670454435\n",
      "\tIteration 10 Objective Function: 9.87967580783 Optimal: 8.2670454435\n",
      "\tIteration 11 Objective Function: 15.2437191741 Optimal: 8.2670454435\n",
      "\tIteration 12 Objective Function: 14.1401980933 Optimal: 8.2670454435\n",
      "\tIteration 13 Objective Function: 19.2293875427 Optimal: 8.2670454435\n",
      "\tIteration 14 Objective Function: 15.9216522198 Optimal: 8.2670454435\n",
      "\tIteration 15 Objective Function: 11.5161952566 Optimal: 8.2670454435\n",
      "\tIteration 16 Objective Function: 19.3039473437 Optimal: 8.2670454435\n",
      "\tIteration 17 Objective Function: 10.4893022309 Optimal: 8.2670454435\n",
      "\tIteration 18 Objective Function: 14.1351415169 Optimal: 8.2670454435\n",
      "\tIteration 19 Objective Function: 19.3990378778 Optimal: 8.2670454435\n",
      "\tIteration 20 Objective Function: 15.0010949318 Optimal: 8.2670454435\n",
      "\tIteration 21 Objective Function: 13.7249820013 Optimal: 8.2670454435\n",
      "\tIteration 22 Objective Function: 19.3992897773 Optimal: 8.2670454435\n",
      "\tIteration 23 Objective Function: 11.0141724928 Optimal: 8.2670454435\n",
      "\tIteration 24 Objective Function: 13.0463694366 Optimal: 8.2670454435\n",
      "\tIteration 25 Objective Function: 8.78277175282 Optimal: 8.2670454435\n",
      "\tIteration 26 Objective Function: 13.2533015866 Optimal: 8.2670454435\n",
      "\tIteration 27 Objective Function: 17.2235725816 Optimal: 8.2670454435\n",
      "\tIteration 28 Objective Function: 21.8372881786 Optimal: 8.2670454435\n",
      "\tIteration 29 Objective Function: 23.5576945598 Optimal: 8.2670454435\n",
      "\tIteration 30 Objective Function: 17.8606808668 Optimal: 8.2670454435\n",
      "\tIteration 31 Objective Function: 14.0961927627 Optimal: 8.2670454435\n",
      "\tIteration 32 Objective Function: 13.2331826814 Optimal: 8.2670454435\n",
      "\tIteration 33 Objective Function: 15.8979339911 Optimal: 8.2670454435\n",
      "\tIteration 34 Objective Function: 18.27539743 Optimal: 8.2670454435\n",
      "\tIteration 35 Objective Function: 9.55831956253 Optimal: 8.2670454435\n",
      "\tIteration 36 Objective Function: 16.8880087411 Optimal: 8.2670454435\n",
      "\tIteration 37 Objective Function: 15.0165454049 Optimal: 8.2670454435\n",
      "\tIteration 38 Objective Function: 15.1641782636 Optimal: 8.2670454435\n",
      "\tIteration 39 Objective Function: 15.161104453 Optimal: 8.2670454435\n",
      "\tIteration 40 Objective Function: 22.2534737837 Optimal: 8.2670454435\n",
      "\tIteration 41 Objective Function: 17.7655583339 Optimal: 8.2670454435\n",
      "\tIteration 42 Objective Function: 21.6193948143 Optimal: 8.2670454435\n",
      "\tIteration 43 Objective Function: 10.7915667724 Optimal: 8.2670454435\n",
      "\tIteration 44 Objective Function: 15.1421431374 Optimal: 8.2670454435\n",
      "\tIteration 45 Objective Function: 18.2707528376 Optimal: 8.2670454435\n",
      "\tIteration 46 Objective Function: 10.1976780713 Optimal: 8.2670454435\n",
      "\tIteration 47 Objective Function: 17.8121733727 Optimal: 8.2670454435\n",
      "\tIteration 48 Objective Function: 16.7750648712 Optimal: 8.2670454435\n",
      "\tIteration 49 Objective Function: 13.8840094862 Optimal: 8.2670454435\n",
      "\tIteration 50 Objective Function: 18.0740696699 Optimal: 8.2670454435\n"
     ]
    }
   ],
   "source": [
    "#generate SROM for random stiffness - define SROM size with dimension=1 for scalar\n",
    "sromsize = 10\n",
    "dim = 1\n",
    "\n",
    "srom = SROM(sromsize, dim)\n",
    "srom.optimize(stiffness_rv)\n",
    "(samples, probs) = srom.get_params()"
   ]
  },
  {
   "cell_type": "markdown",
   "metadata": {},
   "source": [
    "Step 2) Evaluate the model for each stiffness sample & save max displacement"
   ]
  },
  {
   "cell_type": "code",
   "execution_count": 5,
   "metadata": {
    "collapsed": true
   },
   "outputs": [],
   "source": [
    "#Run model to get max disp for each SROM stiffness sample\n",
    "srom_disps = np.zeros(sromsize)\n",
    "for i, stiff in enumerate(samples):\n",
    "    srom_disps[i] = model.get_max_disp(stiff)"
   ]
  },
  {
   "cell_type": "markdown",
   "metadata": {},
   "source": [
    "Step 3) Generate SROM for the max displacement solution"
   ]
  },
  {
   "cell_type": "code",
   "execution_count": 6,
   "metadata": {
    "collapsed": true
   },
   "outputs": [],
   "source": [
    "#Form new SROM for the max displacement solution using samples from the model   \n",
    "srom_solution = SROM(sromsize, dim)\n",
    "srom_solution.set_params(srom_disps, probs)"
   ]
  },
  {
   "cell_type": "code",
   "execution_count": null,
   "metadata": {
    "collapsed": true
   },
   "outputs": [],
   "source": []
  }
 ],
 "metadata": {
  "celltoolbar": "Raw Cell Format",
  "kernelspec": {
   "display_name": "Python 2",
   "language": "python",
   "name": "python2"
  },
  "language_info": {
   "codemirror_mode": {
    "name": "ipython",
    "version": 2
   },
   "file_extension": ".py",
   "mimetype": "text/x-python",
   "name": "python",
   "nbconvert_exporter": "python",
   "pygments_lexer": "ipython2",
   "version": "2.7.11"
  }
 },
 "nbformat": 4,
 "nbformat_minor": 0
}
